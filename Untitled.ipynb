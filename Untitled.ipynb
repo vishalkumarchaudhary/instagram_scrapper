{
 "cells": [
  {
   "cell_type": "code",
   "execution_count": 170,
   "metadata": {
    "collapsed": true
   },
   "outputs": [],
   "source": [
    "import requests\n",
    "from bs4 import BeautifulSoup\n",
    "from bs4 import BeautifulSoup\n",
    "from urllib.request import urlopen\n",
    "import shutil\n",
    "import requests\n",
    "import sys\n",
    "import time\n",
    "import os\n",
    "from lxml import etree, html\n",
    "\n",
    "try:\n",
    "\tos.stat(\"images\")\n",
    "except:\n",
    "\tos.mkdir(\"images\") \n",
    "\n",
    " "
   ]
  },
  {
   "cell_type": "code",
   "execution_count": 199,
   "metadata": {},
   "outputs": [
    {
     "ename": "TypeError",
     "evalue": "'builtin_function_or_method' object is not iterable",
     "output_type": "error",
     "traceback": [
      "\u001b[0;31m---------------------------------------------------------------------------\u001b[0m",
      "\u001b[0;31mTypeError\u001b[0m                                 Traceback (most recent call last)",
      "\u001b[0;32m<ipython-input-199-cc9ae20a7bb0>\u001b[0m in \u001b[0;36m<module>\u001b[0;34m()\u001b[0m\n\u001b[1;32m      3\u001b[0m \u001b[0;32mimport\u001b[0m \u001b[0mtime\u001b[0m\u001b[0;34m\u001b[0m\u001b[0m\n\u001b[1;32m      4\u001b[0m \u001b[0;32mwith\u001b[0m \u001b[0mopen\u001b[0m\u001b[0;34m(\u001b[0m\u001b[0;34m\"celeb.csv\"\u001b[0m\u001b[0;34m,\u001b[0m\u001b[0;34m'r'\u001b[0m\u001b[0;34m)\u001b[0m \u001b[0;32mas\u001b[0m \u001b[0mf\u001b[0m \u001b[0;34m:\u001b[0m\u001b[0;34m\u001b[0m\u001b[0m\n\u001b[0;32m----> 5\u001b[0;31m     \u001b[0;32mfor\u001b[0m \u001b[0mi\u001b[0m \u001b[0;32min\u001b[0m \u001b[0mf\u001b[0m\u001b[0;34m.\u001b[0m\u001b[0mreadlines\u001b[0m\u001b[0;34m:\u001b[0m\u001b[0;34m\u001b[0m\u001b[0m\n\u001b[0m\u001b[1;32m      6\u001b[0m         \u001b[0mprint\u001b[0m\u001b[0;34m(\u001b[0m\u001b[0mi\u001b[0m\u001b[0;34m)\u001b[0m\u001b[0;34m\u001b[0m\u001b[0m\n\u001b[1;32m      7\u001b[0m \u001b[0;31m# driver = webdriver.Firefox()\u001b[0m\u001b[0;34m\u001b[0m\u001b[0;34m\u001b[0m\u001b[0m\n",
      "\u001b[0;31mTypeError\u001b[0m: 'builtin_function_or_method' object is not iterable"
     ]
    }
   ],
   "source": [
    "from selenium import webdriver\n",
    "from selenium.webdriver.common.keys import Keys\n",
    "import time\n",
    "driver = webdriver.Firefox()\n",
    "number_of_scrolls = 5 ## directly proportional to number of phpto of a celebreties\n",
    "image_id_counter = 0\n",
    "num_load_more_comment = 2\n",
    "with open(\"celeb.csv\",'r') as c_f :\n",
    "    celeb = str(cf.readline())\n",
    "    \n",
    "    driver.get(\"https://www.instagram.com/\"+ celeb +\"/\")\n",
    "\n",
    "    for i in range(number_of_scrolls):\n",
    "        driver.execute_script(\"window.scrollTo(0, document.body.scrollHeight);\")\n",
    "        time.sleep(1)\n",
    "    listss= driver.find_elements_by_tag_name(\"a\")\n",
    "    image_comment_link = []\n",
    "    for i in (listss[2:]):\n",
    "\n",
    "    #     document_root = html.fromstring(i.get_attribute('innerHTML'))\n",
    "        document_root = html.fromstring(i.get_attribute('outerHTML'))\n",
    "        x = (etree.tostring(document_root, encoding='unicode', pretty_print=True))\n",
    "        image_link = document_root.get(\"href\")\n",
    "        if(len(image_link)>2 and image_link[1]=='p'):\n",
    "            image_comment_link.append( image_link)\n",
    "            continue\n",
    "        else :\n",
    "            break\n",
    "    comment_file = open(str(celeb)+\".csv\",\"w\")\n",
    "    for k in image_comment_link :\n",
    "        save_image(k,str(celeb)+\"/\"+str(image_id_counter)+\".png\")\n",
    "    ## number of load more comments\n",
    "        for _tmp in range(num_load_more_comment):\n",
    "            load_more_comment()\n",
    "        comment = save_comments()\n",
    "        comment_file.write(str(comment_id)+\" , \"comment)\n",
    "    "
   ]
  },
  {
   "cell_type": "code",
   "execution_count": 172,
   "metadata": {},
   "outputs": [],
   "source": []
  },
  {
   "cell_type": "code",
   "execution_count": 173,
   "metadata": {},
   "outputs": [],
   "source": [
    "def save_image(image_comment_link,image_name):\n",
    "    link = \"https://www.instagram.com\"+image_comment_link\n",
    "    driver.get(link)\n",
    "    images= (driver.find_elements_by_tag_name(\"img\"))\n",
    "    counter = image_name\n",
    "    for i in (images[1:]):\n",
    "\n",
    "    #     document_root = html.fromstring(i.get_attribute('innerHTML'))\n",
    "        document_root = html.fromstring(i.get_attribute('outerHTML'))\n",
    "        x = (etree.tostring(document_root, encoding='unicode', pretty_print=True))\n",
    "    #     print(x)\n",
    "        image_link = str(document_root.get(\"src\")) \n",
    "\n",
    "        ##stroring images into file\n",
    "        with open(str(counter)+'.jpg', 'wb') as handle:\n",
    "            response = requests.get(image_link, stream=True)\n",
    "\n",
    "            if not response.ok:\n",
    "                print( response)\n",
    "\n",
    "            for block in response.iter_content(1024):\n",
    "                if not block:\n",
    "                    break\n",
    "\n",
    "                handle.write(block)\n",
    "    \n",
    "    \n"
   ]
  },
  {
   "cell_type": "code",
   "execution_count": 180,
   "metadata": {},
   "outputs": [],
   "source": [
    "# from selenium.webdriver.support import expected_conditions as EC\n",
    "# from selenium.webdriver.support.ui import WebDriverWait as wait\n",
    "# from selenium.webdriver.common.by import By\n",
    "# venue = wait(driver, 20).until(EC.element_to_be_clickable((By.XPATH, '//a[@class=\"_m3m1c _1s3cd\"]')))\n",
    "# venue.click()\n",
    "\n",
    "# tmp = driver.find_elements_by_tag_name(\"a\")\n",
    "# for i in (tmp):\n",
    "#     if str(i.get_attribute(\"innerHTML\")) in \"Load more comments\" :\n",
    "#         i.click()\n",
    "        \n",
    "#     document_root = html.fromstring(i.get_attribute('innerHTML'))\n",
    "#     document_root = html.fromstring(i.get_attribute('outerHTML'))\n",
    "#     x = (etree.tostring(document_root, encoding='unicode', pretty_print=True))\n",
    "#     print(x)"
   ]
  },
  {
   "cell_type": "code",
   "execution_count": 188,
   "metadata": {},
   "outputs": [],
   "source": [
    "def load_more_comment():\n",
    "    tmp = driver.find_elements_by_tag_name(\"a\")\n",
    "    for i in (tmp):\n",
    "        if str(i.get_attribute(\"innerHTML\")) in \"Load more comments\" :\n",
    "            i.click()\n",
    "\n",
    "def save_comments():\n",
    "    comm = (driver.find_elements_by_tag_name( \"li\"))\n",
    "    # images= (driver.find_elements_by_tag_name(\"img\"))\n",
    "    # print(comm.get_attribute(\"innerHTML\"))\n",
    "    comments = \" \"\n",
    "    flag = 0 \n",
    "    for i in comm :\n",
    "\n",
    "        document_root = html.fromstring(i.get_attribute('innerHTML'))\n",
    "    #     document_root = html.fromstring(i.get_attribute('outerHTML'))\n",
    "        x = (etree.tostring(document_root, encoding='unicode', pretty_print=True))\n",
    "        try :\n",
    "            if(flag):\n",
    "                comments += str(x).split(\"<span>\")[3].split(\"</\")[0]+\" \"\n",
    "                \n",
    "        except :\n",
    "            pass\n",
    "        if (not flag and \"Load more comments\" in str(x)):\n",
    "            flag = 1\n",
    "    return comments\n",
    "    \n",
    " "
   ]
  },
  {
   "cell_type": "code",
   "execution_count": null,
   "metadata": {
    "collapsed": true
   },
   "outputs": [],
   "source": []
  }
 ],
 "metadata": {
  "kernelspec": {
   "display_name": "Python 3",
   "language": "python",
   "name": "python3"
  }
 },
 "nbformat": 4,
 "nbformat_minor": 2
}
