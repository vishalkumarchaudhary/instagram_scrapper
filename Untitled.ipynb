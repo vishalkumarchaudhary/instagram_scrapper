{
 "cells": [
  {
   "cell_type": "code",
   "execution_count": 10,
   "metadata": {
    "collapsed": true
   },
   "outputs": [],
   "source": [
    "import requests\n",
    "from bs4 import BeautifulSoup\n",
    "from urllib.request import urlopen\n",
    "import shutil\n",
    "import requests\n",
    "import sys\n",
    "import time\n",
    "import os\n",
    "from lxml import etree, html\n",
    "from selenium import webdriver\n",
    "from selenium.webdriver.common.keys import Keys\n",
    "import time\n",
    "try:\n",
    "    os.stat(\"images\")\n",
    "except:\n",
    "    os.mkdir(\"images\") \n",
    "try:\n",
    "    os.stat(\"comments\")\n",
    "except:\n",
    "    os.mkdir(\"comments\") "
   ]
  },
  {
   "cell_type": "code",
   "execution_count": 5,
   "metadata": {
    "collapsed": true
   },
   "outputs": [],
   "source": [
    "def load_more_comment():\n",
    "    tmp = driver.find_elements_by_tag_name(\"a\")\n",
    "    for i in (tmp):\n",
    "        if \"Load more comments\" in str(i.get_attribute(\"innerHTML\"))   :\n",
    "            i.click()\n",
    "#             return\n",
    "\n",
    "def save_comments():\n",
    "    comm = (driver.find_elements_by_tag_name( \"li\"))\n",
    "    # images= (driver.find_elements_by_tag_name(\"img\"))\n",
    "    # print(comm.get_attribute(\"innerHTML\"))\n",
    "    comments = \" \"\n",
    "    flag = 0 \n",
    "    for i in comm :\n",
    "\n",
    "        document_root = html.fromstring(i.get_attribute('innerHTML'))\n",
    "    #     document_root = html.fromstring(i.get_attribute('outerHTML'))\n",
    "        x = (etree.tostring(document_root, encoding='unicode', pretty_print=True))\n",
    "        try :\n",
    "            if(flag):\n",
    "                comments += str(x).split(\"<span>\")[3].split(\"</\")[0]+\" \"\n",
    "                \n",
    "        except :\n",
    "            pass\n",
    "        if (not flag and \"Load more comments\" in str(x)):\n",
    "            flag = 1\n",
    "    return comments\n",
    "\n",
    "def save_image(image_comment_link,image_name):\n",
    "    link = \"https://www.instagram.com\"+image_comment_link\n",
    "    driver.get(link)\n",
    "    images= (driver.find_elements_by_tag_name(\"img\"))\n",
    "    counter = image_name\n",
    "    for i in (images[1:]):\n",
    "\n",
    "    #     document_root = html.fromstring(i.get_attribute('innerHTML'))\n",
    "        document_root = html.fromstring(i.get_attribute('outerHTML'))\n",
    "        x = (etree.tostring(document_root, encoding='unicode', pretty_print=True))\n",
    "    #     print(x)\n",
    "        image_link = str(document_root.get(\"src\")) \n",
    "\n",
    "        ##stroring images into file\n",
    "        with open(str(counter), 'wb') as handle:\n",
    "            response = requests.get(image_link, stream=True)\n",
    "\n",
    "            if not response.ok:\n",
    "                print( response)\n",
    "\n",
    "            for block in response.iter_content(1024):\n",
    "                if not block:\n",
    "                    break\n",
    "\n",
    "                handle.write(block)\n",
    "    \n",
    "    \n"
   ]
  },
  {
   "cell_type": "code",
   "execution_count": null,
   "metadata": {},
   "outputs": [
    {
     "name": "stdout",
     "output_type": "stream",
     "text": [
      "jenniferlawrencepx\n",
      "1 1\n",
      "/p/BeMKUw8nLZY/?taken-by=jenniferlawrencepx\n",
      "  nice talk. Classy Cool ladys 👍 👍💓💓💓   3 lovely ladies.  Way to go. 😉🌹👍👍👍👍 Adele and Jennifer Lawrence in one picture i dont need more😍😍😍 ❤️❤️❤️👏👏👏👍👍👍 💙❤️💜 Waow😻 my love 💕 😍😍😍😍😍😍😍😍😍😍😍 You are the best😘😘 Vous êtes bien mesdames ✊🏻👩🏻 the women to power!!  Is one of the angels there Omg !!! Amazing girls !!! Trop belles... Bravo!! Follow my page please 😍😍 So GOOD to be happy seeing \"sisters\" unite.  Booyah!! And beautiful!!! I post Jennifer's outfits! Go check what she wore at  Bonjours à vous merci pour les photos So you approve of illegal immigration I bet that was fun!! 😐😑 😮😍 Good job. Girls Es tiempo de que los papeles que interpretan lleven el mensage de respeto a sus vidas,sus valores ,sus derechos.😍 Good job at what? 80 so nice looking dear jennifer so nice looking dear jennifer 💪🏻  the original Candy's life. Candy drive the real world  the original Candy's life. Candy drive the real world Que lindas Nice jennifer So Jen is pro-choice? way no convert islam jesus is prophet you in hellllllllllllllllllllllllllllllllllllllllllllllllllllllllllllllllllll all christiennnnnnnnnnnnnnnnnnnn Is this the real Jennifer Lawrence? I’m confused me save all usaaaaaaaaaaaaaaaaaa fukkkkkkkkkkkkkkkkkkkkkkkkkkkkkkkkkkkkkkkkkkkkkkkkkkkkkkkkkkk you good men way go in hellll . Super 👌 👏 👏 👍 💕💕 I love you❤️ 🙏👁🙏👁🙏👁 I frecken luv u 😘😘😘😘😘😘😘😘☺️☺️ Tre dee in una sola foto😍😍😍❤  sorry I was just joking I have some people in the business women Beautiful ladies Oh my Goshh Yeah she's a doll she's one of my babies I might have to marry her if she can afford me and act right for me love you bye bye 👸👸👸 Very ladies xoxo Hey Jennifer,  are you going to take a selfie with your bf HARV on the Casting Couch  sure.  She doesn't care about torturing a baby in its most safest place,  it's mother.  WTF yuck u r a lezbo супер \n",
      "2 2\n",
      "/p/BeERUN8HkYV/?taken-by=jenniferlawrencepx\n",
      " 😍😍😍😍 Still a beauty after all these years Gracias por iluminar mi dia... love you 💓💓💓💓 L O V E 💓 Y O U 💓💓💓💓💓💓💓💓💓💓💓💓💓💓💖💖💖💖💖💖💖💖💖💖💖💖💖💖 Hermosa mujer , te Amo Is rhis the real jennifer ? Or just a fan page thing  Welcome to The Illuminati World🔺 - Bringing the poor, the needy and the talented to limelight of fame and riches. Get money, fame, powers, security, get recognized in your business, political race, rise to the top in whatever you do, be protected spiritually and physically! All these you will achieve in a twinkle of an eye when you get started into the GREAT ILLUMINATI WORLD ORDER. Once you are initiated to the ILLUMINATI EMPIRE, you have numerous other benefits. Is this a real account of Jennifer ? 5 thoughts 🎨  baby face Gotta be fast enough 🖼 好喜欢你的电影，爱你哦 Less is more more or less 🙃   dm me Aie aie aie....too bellissima YÀAAAAAAAAAAS YAAAAAAAS Gino Omg gna love to hunger games till the end  no  do she have a real account ?  no she don't have any Instagram id. But this is her top fan Instagram id. But she has a Facebook account  ooohh Ahahaha Thank You 😂 elle est tellement belle   de fou je l’aime trooop Good Nice  ❤️❤️❤️💋💋💋 my one true love ❤❤❤ Je t aime I 😍 you Wow can I say If I make a comment ,will.you respond ? ❤️❤️❤️😘😘😘😘 🌹 Who cares what I say.  I’d get drunk with you.  Only in a dream Beautiful lady photo ❤️❤️❤️❤️😍😍😍😍😉😉😉😉💝💝💝💝 😍😍🔥🔥✌✌❤❤ I love u Bellísima 😍😍😍 ❤️❤️❤️ Oh my God Fun page? Pretty smile 😃 oh my god you are so Beautyful❤️😘🌹 I lover you 😉😍😀 When I close my eyes, I can imagine a better world ... \n",
      "3 3\n",
      "/p/Bd5AEVTn1aZ/?taken-by=jenniferlawrencepx\n"
     ]
    }
   ],
   "source": [
    "driver = webdriver.Firefox()\n",
    "number_of_scrolls = 5 ## directly proportional to number of phpto of a celebreties\n",
    "image_id_counter = 1\n",
    "comment_id  =1\n",
    "num_load_more_comment = 2\n",
    "\n",
    "with open(\"celeb.csv\",'r') as cf :\n",
    "    for line in cf.readlines():\n",
    "        \n",
    "        celeb = str(line)[0:-1]\n",
    "        print(celeb)\n",
    "\n",
    "   \n",
    "        driver.get(\"https://www.instagram.com/\"+ celeb +\"/\")\n",
    "        \n",
    "        for i in range(number_of_scrolls):\n",
    "            driver.execute_script(\"window.scrollTo(0, document.body.scrollHeight);\")\n",
    "            time.sleep(1)\n",
    "        listss= driver.find_elements_by_tag_name(\"a\")\n",
    "        image_comment_link = []\n",
    "        for i in (listss[2:]):\n",
    "\n",
    "        #     document_root = html.fromstring(i.get_attribute('innerHTML'))\n",
    "            document_root = html.fromstring(i.get_attribute('outerHTML'))\n",
    "#             x = (etree.tostring(document_root, encoding='unicode', pretty_print=True))\n",
    "         \n",
    "            image_link = document_root.get(\"href\")\n",
    "            if(len(image_link)>2 and image_link[1]=='p'):\n",
    "                image_comment_link.append( image_link)\n",
    "                continue\n",
    "            else :\n",
    "                pass\n",
    "        \n",
    "        \n",
    "        \n",
    "       \n",
    "        \n",
    "        comment_file = open(\"comments/\"+str(celeb)+\".csv\",\"w\")\n",
    "        for k in image_comment_link :\n",
    "            try :\n",
    "                save_image(k,\"images/\"+str(celeb)+\"/\"+str(image_id_counter)+\".jpg\")\n",
    "                print(image_id_counter , comment_id)\n",
    "                print(k)\n",
    "                for _tmp in range(num_load_more_comment):\n",
    "                    try :\n",
    "                        load_more_comment()  \n",
    "\n",
    "                    except:\n",
    "                        pass\n",
    "                comment = save_comments()\n",
    "                print(comment)\n",
    "        \n",
    "                comment_file.write(str(comment_id)+\" , \" + comment +\"\\n\" )\n",
    "        \n",
    "                comment_id +=1\n",
    "                image_id_counter = comment_id \n",
    "#                 image_id_counter +=1\n",
    "            except :\n",
    "                pass\n",
    "        comment_file.close()\n",
    "        ## number of load more comments\n",
    "           \n",
    "            \n",
    "            \n"
   ]
  },
  {
   "cell_type": "code",
   "execution_count": null,
   "metadata": {},
   "outputs": [],
   "source": []
  },
  {
   "cell_type": "code",
   "execution_count": null,
   "metadata": {},
   "outputs": [],
   "source": []
  },
  {
   "cell_type": "code",
   "execution_count": null,
   "metadata": {
    "collapsed": true
   },
   "outputs": [],
   "source": [
    "# from selenium.webdriver.support import expected_conditions as EC\n",
    "# from selenium.webdriver.support.ui import WebDriverWait as wait\n",
    "# from selenium.webdriver.common.by import By\n",
    "# venue = wait(driver, 20).until(EC.element_to_be_clickable((By.XPATH, '//a[@class=\"_m3m1c _1s3cd\"]')))\n",
    "# venue.click()\n",
    "\n",
    "# tmp = driver.find_elements_by_tag_name(\"a\")\n",
    "# for i in (tmp):\n",
    "#     if str(i.get_attribute(\"innerHTML\")) in \"Load more comments\" :\n",
    "#         i.click()\n",
    "        \n",
    "#     document_root = html.fromstring(i.get_attribute('innerHTML'))\n",
    "#     document_root = html.fromstring(i.get_attribute('outerHTML'))\n",
    "#     x = (etree.tostring(document_root, encoding='unicode', pretty_print=True))\n",
    "#     print(x)"
   ]
  },
  {
   "cell_type": "code",
   "execution_count": 188,
   "metadata": {
    "collapsed": true
   },
   "outputs": [],
   "source": [
    "\n",
    "    \n",
    " "
   ]
  },
  {
   "cell_type": "code",
   "execution_count": null,
   "metadata": {
    "collapsed": true
   },
   "outputs": [],
   "source": []
  }
 ],
 "metadata": {
  "kernelspec": {
   "display_name": "Python 3",
   "language": "python",
   "name": "python3"
  },
  "language_info": {
   "codemirror_mode": {
    "name": "ipython",
    "version": 3
   },
   "file_extension": ".py",
   "mimetype": "text/x-python",
   "name": "python",
   "nbconvert_exporter": "python",
   "pygments_lexer": "ipython3",
   "version": "3.6.3"
  }
 },
 "nbformat": 4,
 "nbformat_minor": 2
}
